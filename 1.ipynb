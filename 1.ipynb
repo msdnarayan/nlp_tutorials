{
 "cells": [
  {
   "cell_type": "code",
   "execution_count": 1,
   "id": "ed62ea6c-3199-4508-9d64-a7194bcc2e74",
   "metadata": {},
   "outputs": [],
   "source": [
    "import  spacy"
   ]
  },
  {
   "cell_type": "code",
   "execution_count": 6,
   "id": "a95f70b7-3821-45de-b847-56e7d5c6710b",
   "metadata": {},
   "outputs": [
    {
     "name": "stdout",
     "output_type": "stream",
     "text": [
      "Dr.strange loves it.\n",
      "Hulk loves\n"
     ]
    }
   ],
   "source": [
    "nlp=spacy.load(\"en_core_web_sm\")\n",
    "#sentence tokenization\n",
    "doc=nlp(\"Dr.strange loves it.Hulk loves \")\n",
    "for sentence in doc.sents:\n",
    "    print(sentence)"
   ]
  },
  {
   "cell_type": "code",
   "execution_count": 7,
   "id": "5ee93ef6-66a3-440c-ab4f-df0cf80234cf",
   "metadata": {},
   "outputs": [
    {
     "name": "stdout",
     "output_type": "stream",
     "text": [
      "Dr.strange\n",
      "loves\n",
      "it\n",
      ".\n",
      "Hulk\n",
      "loves\n"
     ]
    }
   ],
   "source": [
    "#word tokenization\n",
    "for sentence in doc.sents:\n",
    "    for word in sentence:\n",
    "        print(word)"
   ]
  },
  {
   "cell_type": "code",
   "execution_count": 12,
   "id": "b9e74355-5db5-43b2-b380-5a2fe5476bd9",
   "metadata": {},
   "outputs": [
    {
     "name": "stderr",
     "output_type": "stream",
     "text": [
      "[nltk_data] Downloading package punkt to\n",
      "[nltk_data]     C:\\Users\\msdev\\AppData\\Roaming\\nltk_data...\n",
      "[nltk_data]   Unzipping tokenizers\\punkt.zip.\n"
     ]
    },
    {
     "data": {
      "text/plain": [
       "True"
      ]
     },
     "execution_count": 12,
     "metadata": {},
     "output_type": "execute_result"
    }
   ],
   "source": [
    "import nltk\n",
    "#nltk.download()\n",
    "nltk.download('punkt')"
   ]
  },
  {
   "cell_type": "code",
   "execution_count": 16,
   "id": "24aedf72-8549-4c7c-b5e1-9d49dc6bf478",
   "metadata": {},
   "outputs": [
    {
     "data": {
      "text/plain": [
       "['Dr. strange loves it.', 'Hulk loves']"
      ]
     },
     "execution_count": 16,
     "metadata": {},
     "output_type": "execute_result"
    }
   ],
   "source": [
    "from nltk.tokenize import sent_tokenize\n",
    "sent_tokenize(\"Dr. strange loves it. Hulk loves\")"
   ]
  },
  {
   "cell_type": "code",
   "execution_count": 17,
   "id": "5a4c1612-45f5-4269-a8dd-7e483cc5a477",
   "metadata": {},
   "outputs": [
    {
     "data": {
      "text/plain": [
       "['Dr.', 'strange', 'loves', 'it', '.', 'Hulk', 'loves']"
      ]
     },
     "execution_count": 17,
     "metadata": {},
     "output_type": "execute_result"
    }
   ],
   "source": [
    "from nltk.tokenize import word_tokenize\n",
    "word_tokenize(\"Dr. strange loves it. Hulk loves\")"
   ]
  },
  {
   "cell_type": "code",
   "execution_count": null,
   "id": "8a70a995-37c5-4572-a91c-8998e3945196",
   "metadata": {},
   "outputs": [],
   "source": []
  }
 ],
 "metadata": {
  "kernelspec": {
   "display_name": "Python 3 (ipykernel)",
   "language": "python",
   "name": "python3"
  },
  "language_info": {
   "codemirror_mode": {
    "name": "ipython",
    "version": 3
   },
   "file_extension": ".py",
   "mimetype": "text/x-python",
   "name": "python",
   "nbconvert_exporter": "python",
   "pygments_lexer": "ipython3",
   "version": "3.12.0"
  }
 },
 "nbformat": 4,
 "nbformat_minor": 5
}
