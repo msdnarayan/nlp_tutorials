{
 "cells": [
  {
   "cell_type": "code",
   "execution_count": 2,
   "id": "7d318ceb",
   "metadata": {},
   "outputs": [],
   "source": [
    "import re\n"
   ]
  },
  {
   "cell_type": "code",
   "execution_count": 37,
   "id": "4ba2176d",
   "metadata": {},
   "outputs": [],
   "source": [
    "chat1 = '(123)-2345-2343,  sdm244@hotmail.in'\n",
    "chat2 = 'abcs@gmail.com  ,1204814940 , 4534569836 '\n",
    "chat3 = 'xjcbsc23@ma.ac.in  , 4567456784, (234)-3423-2343'\n",
    "chat4='codebasics: Hello, I am having an issue with my order # 412889912'\n",
    "chat5='codebasics: I have a problem with my order number 412889912'\n",
    "chat6='codebasics: My order 412889912 is having an issue, I was charged 300$ when online it says 280$'"
   ]
  },
  {
   "cell_type": "code",
   "execution_count": 40,
   "id": "305f0921",
   "metadata": {},
   "outputs": [
    {
     "data": {
      "text/plain": [
       "['412889912']"
      ]
     },
     "execution_count": 40,
     "metadata": {},
     "output_type": "execute_result"
    }
   ],
   "source": [
    "pattern='\\d{10}|\\(\\d{3}\\)-\\d{4}-\\d{4}'\n",
    "pattern1='[a-z0-9_]*@[a-z0-9A-Z]*\\.[a-z0-9_]*.[a-z0-9_]*'\n",
    "pattern2='order[^\\d]*(\\d*)'\n",
    "matches=re.findall(pattern2,chat5)\n",
    "matches"
   ]
  },
  {
   "cell_type": "code",
   "execution_count": 41,
   "id": "3efc5040",
   "metadata": {},
   "outputs": [],
   "source": [
    "text='''\n",
    "\n",
    "Born\tElon Reeve Musk\n",
    "June 28, 1971 (age 50)\n",
    "Pretoria, Transvaal, South Africa\n",
    "Citizenship\t\n",
    "'''"
   ]
  },
  {
   "cell_type": "code",
   "execution_count": 43,
   "id": "433dc787",
   "metadata": {},
   "outputs": [
    {
     "data": {
      "text/plain": [
       "'Pretoria, Transvaal, South Africa'"
      ]
     },
     "execution_count": 43,
     "metadata": {},
     "output_type": "execute_result"
    }
   ],
   "source": [
    "pattern='\\(age.*\\n(.*)'\n",
    "\n",
    "matches=re.findall(pattern,text)\n",
    "matches[0].strip()"
   ]
  },
  {
   "cell_type": "code",
   "execution_count": 46,
   "id": "787b68e4",
   "metadata": {},
   "outputs": [],
   "source": [
    "def get_pattern(pattern,text):\n",
    "   matches=re.findall(pattern,text)\n",
    "   if matches:\n",
    "       return matches[0]"
   ]
  },
  {
   "cell_type": "code",
   "execution_count": 51,
   "id": "b6e09cbc",
   "metadata": {},
   "outputs": [
    {
     "data": {
      "text/plain": [
       "'Pretoria, Transvaal, South Africa'"
      ]
     },
     "execution_count": 51,
     "metadata": {},
     "output_type": "execute_result"
    }
   ],
   "source": [
    "get_pattern('\\(age.*\\n(.*)',text)"
   ]
  },
  {
   "cell_type": "code",
   "execution_count": 55,
   "id": "73c60a08",
   "metadata": {},
   "outputs": [],
   "source": [
    "def info(text):\n",
    "    age=get_pattern('age.(\\d+)',text)\n",
    "    birthplace=get_pattern('\\(age.*\\n(.*)',text)\n",
    "    birth_date=get_pattern('Born.*\\n(.*)\\(age',text)\n",
    "    \n",
    "    return{\n",
    "        'age':int(age),\n",
    "        'birth_place':birthplace.strip(),\n",
    "        'birth_date':birth_date.strip()\n",
    "        \n",
    "    }"
   ]
  },
  {
   "cell_type": "code",
   "execution_count": 56,
   "id": "c1af5595",
   "metadata": {},
   "outputs": [
    {
     "data": {
      "text/plain": [
       "{'age': 50,\n",
       " 'birth_place': 'Pretoria, Transvaal, South Africa',\n",
       " 'birth_date': 'June 28, 1971'}"
      ]
     },
     "execution_count": 56,
     "metadata": {},
     "output_type": "execute_result"
    }
   ],
   "source": [
    "info(text)"
   ]
  },
  {
   "cell_type": "code",
   "execution_count": null,
   "id": "06b23d2b",
   "metadata": {},
   "outputs": [],
   "source": []
  }
 ],
 "metadata": {
  "kernelspec": {
   "display_name": "Python 3 (ipykernel)",
   "language": "python",
   "name": "python3"
  },
  "language_info": {
   "codemirror_mode": {
    "name": "ipython",
    "version": 3
   },
   "file_extension": ".py",
   "mimetype": "text/x-python",
   "name": "python",
   "nbconvert_exporter": "python",
   "pygments_lexer": "ipython3",
   "version": "3.10.9"
  }
 },
 "nbformat": 4,
 "nbformat_minor": 5
}
